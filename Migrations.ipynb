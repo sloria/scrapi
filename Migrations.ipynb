{
 "cells": [
  {
   "cell_type": "code",
   "execution_count": 6,
   "metadata": {
    "collapsed": false
   },
   "outputs": [
    {
     "name": "stdout",
     "output_type": "stream",
     "text": [
      "Automatic pdb calling has been turned ON\n"
     ]
    }
   ],
   "source": [
    "from scrapi.tasks import rename_inner\n",
    "\n",
    "from scrapi.tasks import rename_one\n",
    "\n",
    "import timeit\n",
    "\n",
    "%pdb"
   ]
  },
  {
   "cell_type": "code",
   "execution_count": 7,
   "metadata": {
    "collapsed": true
   },
   "outputs": [],
   "source": [
    "def do_work():\n",
    "    \"\"\" here's our magic function that inserts into the message\n",
    "    queue, and does something \"\"\"\n",
    "#     result = add.apply_async(args=[4, 4])\n",
    "    result = rename_inner('demit', 'mit', dry=False)"
   ]
  },
  {
   "cell_type": "code",
   "execution_count": 8,
   "metadata": {
    "collapsed": true
   },
   "outputs": [],
   "source": [
    "def run_benchmark(iterations=100):\n",
    "    \"\"\" run the benchmarks with timeit - using the do_work method\n",
    "    defined above. This is setup to prodigously print, and be able\n",
    "    to be run in chunks. i.e.\n",
    "    for chunk in range(1,1000):\n",
    "        (measurements,result_set) = run_benchmark(iterations=100)\n",
    "        append_results(measurements, result_set)\n",
    "    \"\"\"\n",
    "    command_to_run = \"do_work()\"\n",
    "\n",
    "    t = timeit.Timer(stmt=command_to_run,\n",
    "                     setup='from __main__ import do_work; gc.enable()')\n",
    "    # run the timer against a single stmt loop 100 times\n",
    "    measurements = t.repeat(iterations, 1)\n",
    "    #print \"=== RESULT ===\", measurements\n",
    "    return measurements"
   ]
  },
  {
   "cell_type": "code",
   "execution_count": 9,
   "metadata": {
    "collapsed": false
   },
   "outputs": [],
   "source": [
    "l = run_benchmark()"
   ]
  },
  {
   "cell_type": "code",
   "execution_count": 11,
   "metadata": {
    "collapsed": false
   },
   "outputs": [
    {
     "data": {
      "text/plain": [
       "100"
      ]
     },
     "execution_count": 11,
     "metadata": {},
     "output_type": "execute_result"
    }
   ],
   "source": [
    "len(l)"
   ]
  },
  {
   "cell_type": "code",
   "execution_count": 10,
   "metadata": {
    "collapsed": false
   },
   "outputs": [
    {
     "data": {
      "text/plain": [
       "[0.004137992858886719,\n",
       " 0.0038909912109375,\n",
       " 0.009567022323608398,\n",
       " 0.004314899444580078,\n",
       " 0.008673906326293945,\n",
       " 0.004436016082763672,\n",
       " 0.009340047836303711,\n",
       " 0.00510096549987793,\n",
       " 0.0039539337158203125,\n",
       " 0.0041790008544921875,\n",
       " 0.003958940505981445,\n",
       " 0.00884389877319336,\n",
       " 0.005177021026611328,\n",
       " 0.004940986633300781,\n",
       " 0.0042150020599365234,\n",
       " 0.00830388069152832,\n",
       " 0.005301952362060547,\n",
       " 0.004224061965942383,\n",
       " 0.004647970199584961,\n",
       " 0.005146026611328125,\n",
       " 0.008372068405151367,\n",
       " 0.004418134689331055,\n",
       " 0.004663944244384766,\n",
       " 0.004744052886962891,\n",
       " 0.004515886306762695,\n",
       " 0.0047969818115234375,\n",
       " 0.008769989013671875,\n",
       " 0.0041620731353759766,\n",
       " 0.004824161529541016,\n",
       " 0.00893402099609375,\n",
       " 0.004331827163696289,\n",
       " 0.00917196273803711,\n",
       " 0.0043261051177978516,\n",
       " 0.0038759708404541016,\n",
       " 0.008852005004882812,\n",
       " 0.004893064498901367,\n",
       " 0.0050201416015625,\n",
       " 0.00870203971862793,\n",
       " 0.004212141036987305,\n",
       " 0.0042917728424072266,\n",
       " 0.008884906768798828,\n",
       " 0.004404783248901367,\n",
       " 0.004602193832397461,\n",
       " 0.005320072174072266,\n",
       " 0.003988981246948242,\n",
       " 0.00394892692565918,\n",
       " 0.0043981075286865234,\n",
       " 0.004472970962524414,\n",
       " 0.004349231719970703,\n",
       " 0.003993034362792969,\n",
       " 0.004266023635864258,\n",
       " 0.0044782161712646484,\n",
       " 0.00415492057800293,\n",
       " 0.004166126251220703,\n",
       " 0.004409074783325195,\n",
       " 0.00440216064453125,\n",
       " 0.003985166549682617,\n",
       " 0.004130840301513672,\n",
       " 0.003885030746459961,\n",
       " 0.004112958908081055,\n",
       " 0.004789113998413086,\n",
       " 0.004293918609619141,\n",
       " 0.004153013229370117,\n",
       " 0.00392603874206543,\n",
       " 0.004503965377807617,\n",
       " 0.0040988922119140625,\n",
       " 0.004101991653442383,\n",
       " 0.00410008430480957,\n",
       " 0.004112958908081055,\n",
       " 0.004581928253173828,\n",
       " 0.004790067672729492,\n",
       " 0.0043599605560302734,\n",
       " 0.004266023635864258,\n",
       " 0.004055976867675781,\n",
       " 0.004293918609619141,\n",
       " 0.004297971725463867,\n",
       " 0.0043201446533203125,\n",
       " 0.004312038421630859,\n",
       " 0.004209041595458984,\n",
       " 0.004431962966918945,\n",
       " 0.003740072250366211,\n",
       " 0.003679037094116211,\n",
       " 0.004327058792114258,\n",
       " 0.004170894622802734,\n",
       " 0.0040209293365478516,\n",
       " 0.004369974136352539,\n",
       " 0.004436969757080078,\n",
       " 0.00400090217590332,\n",
       " 0.003914833068847656,\n",
       " 0.004145145416259766,\n",
       " 0.003857851028442383,\n",
       " 0.004271984100341797,\n",
       " 0.004179954528808594,\n",
       " 0.0038640499114990234,\n",
       " 0.004373073577880859,\n",
       " 0.004077911376953125,\n",
       " 0.0040318965911865234,\n",
       " 0.003998994827270508,\n",
       " 0.003911018371582031,\n",
       " 0.004069089889526367]"
      ]
     },
     "execution_count": 10,
     "metadata": {},
     "output_type": "execute_result"
    }
   ],
   "source": [
    "l"
   ]
  },
  {
   "cell_type": "code",
   "execution_count": null,
   "metadata": {
    "collapsed": true
   },
   "outputs": [],
   "source": []
  }
 ],
 "metadata": {
  "kernelspec": {
   "display_name": "Python 2",
   "language": "python",
   "name": "python2"
  },
  "language_info": {
   "codemirror_mode": {
    "name": "ipython",
    "version": 2
   },
   "file_extension": ".py",
   "mimetype": "text/x-python",
   "name": "python",
   "nbconvert_exporter": "python",
   "pygments_lexer": "ipython2",
   "version": "2.7.9"
  }
 },
 "nbformat": 4,
 "nbformat_minor": 0
}
