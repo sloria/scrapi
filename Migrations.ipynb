{
 "cells": [
  {
   "cell_type": "code",
   "execution_count": 1,
   "metadata": {
    "collapsed": false
   },
   "outputs": [
    {
     "name": "stderr",
     "output_type": "stream",
     "text": [
      "Raven is not configured (logging is disabled). Please see the documentation for more information.\n",
      "INFO:raven.base.Client:Raven is not configured (logging is disabled). Please see the documentation for more information.\n",
      "WARNING:scrapi.events:USE_FLUENTD is set to False; logs will not be stored\n",
      "/Users/erin/.virtualenvs/scrapi/lib/python2.7/site-packages/cassandra/cqlengine/management.py:535: UserWarning: CQLENG_ALLOW_SCHEMA_MANAGEMENT environment variable is not set. Future versions of this package will require this variable to enable management functions.\n",
      "  warnings.warn(msg)\n",
      "WARNING:cassandra.cqlengine.management:CQLENG_ALLOW_SCHEMA_MANAGEMENT environment variable is not set. Future versions of this package will require this variable to enable management functions.\n",
      "WARNING:cassandra.cqlengine.management:Deprecated. Use create_keyspace_simple or create_keyspace_network_topology instead\n",
      "WARNING:cassandra.cqlengine.management:CQLENG_ALLOW_SCHEMA_MANAGEMENT environment variable is not set. Future versions of this package will require this variable to enable management functions.\n",
      "WARNING:cassandra.cqlengine.management:CQLENG_ALLOW_SCHEMA_MANAGEMENT environment variable is not set. Future versions of this package will require this variable to enable management functions.\n",
      "WARNING:cassandra.cqlengine.management:CQLENG_ALLOW_SCHEMA_MANAGEMENT environment variable is not set. Future versions of this package will require this variable to enable management functions.\n"
     ]
    }
   ],
   "source": [
    "from scrapi.tasks import rename_inner\n",
    "\n",
    "from scrapi.tasks import rename_one\n",
    "\n",
    "import timeit"
   ]
  },
  {
   "cell_type": "code",
   "execution_count": 2,
   "metadata": {
    "collapsed": false
   },
   "outputs": [
    {
     "name": "stdout",
     "output_type": "stream",
     "text": [
      "Automatic pdb calling has been turned ON\n"
     ]
    }
   ],
   "source": [
    "%pdb"
   ]
  },
  {
   "cell_type": "code",
   "execution_count": 3,
   "metadata": {
    "collapsed": true
   },
   "outputs": [],
   "source": [
    "def do_work():\n",
    "    \"\"\" here's our magic function that inserts into the message\n",
    "    queue, and does something \"\"\"\n",
    "    rename_inner('mit1', 'mit2', dry=False)"
   ]
  },
  {
   "cell_type": "code",
   "execution_count": 4,
   "metadata": {
    "collapsed": true
   },
   "outputs": [],
   "source": [
    "def run_benchmark(iterations=1):\n",
    "    \"\"\" run the benchmarks with timeit - using the do_work method\n",
    "    defined above. This is setup to prodigously print, and be able\n",
    "    to be run in chunks. i.e.\n",
    "    for chunk in range(1,1000):\n",
    "        (measurements,result_set) = run_benchmark(iterations=100)\n",
    "        append_results(measurements, result_set)\n",
    "    \"\"\"\n",
    "    command_to_run = \"do_work()\"\n",
    "\n",
    "    t = timeit.Timer(stmt=command_to_run,\n",
    "                     setup='from __main__ import do_work; gc.enable()')\n",
    "\n",
    "    measurements = t.repeat(iterations, 1)\n",
    "    \n",
    "    return measurements"
   ]
  },
  {
   "cell_type": "code",
   "execution_count": 5,
   "metadata": {
    "collapsed": false
   },
   "outputs": [],
   "source": [
    "l = run_benchmark()"
   ]
  },
  {
   "cell_type": "code",
   "execution_count": 6,
   "metadata": {
    "collapsed": false
   },
   "outputs": [],
   "source": [
    "with open(\"benchmark_results.txt\", \"a+\") as benchmarks:\n",
    "    benchmarks.write(str(l[0]) + '\\n')\n",
    "    benchmarks.write(\"=======================\" + '\\n')"
   ]
  }
 ],
 "metadata": {
  "kernelspec": {
   "display_name": "Python 2",
   "language": "python",
   "name": "python2"
  },
  "language_info": {
   "codemirror_mode": {
    "name": "ipython",
    "version": 2
   },
   "file_extension": ".py",
   "mimetype": "text/x-python",
   "name": "python",
   "nbconvert_exporter": "python",
   "pygments_lexer": "ipython2",
   "version": "2.7.9"
  }
 },
 "nbformat": 4,
 "nbformat_minor": 0
}
